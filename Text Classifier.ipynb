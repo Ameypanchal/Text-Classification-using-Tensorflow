{
 "cells": [
  {
   "cell_type": "code",
   "execution_count": null,
   "id": "2071e506",
   "metadata": {},
   "outputs": [],
   "source": [
    "import numpy as np"
   ]
  },
  {
   "cell_type": "code",
   "execution_count": null,
   "id": "fcf77e9e",
   "metadata": {},
   "outputs": [],
   "source": [
    "# tensorflow packages\n",
    "import tensorflow as tf\n",
    "import tensorflow_hub as hub\n",
    "import tensorflow_datasets as tfds"
   ]
  },
  {
   "cell_type": "code",
   "execution_count": 19,
   "id": "f11ec323",
   "metadata": {},
   "outputs": [],
   "source": [
    "train_data, validation_data, test_data = tfds.load(name='imdb_reviews',\n",
    "                                                  split=('train[:60%]', 'train[60%:]', 'test'),\n",
    "                                                  as_supervised=True)"
   ]
  },
  {
   "cell_type": "code",
   "execution_count": 20,
   "id": "31b9d3bd",
   "metadata": {},
   "outputs": [],
   "source": [
    "train_ex_batch, train_labels_batch = next(iter(train_data.batch(10)))"
   ]
  },
  {
   "cell_type": "code",
   "execution_count": 24,
   "id": "f2b450ee",
   "metadata": {},
   "outputs": [],
   "source": [
    "embedding = \"https://tfhub.dev/google/tf2-preview/gnews-swivel-20dim-with-oov/1\"\n",
    "# embed = hub.load(module_url)\n",
    "hublayer = hub.KerasLayer(embedding, input_shape=[], dtype=tf.string, trainable=True)"
   ]
  },
  {
   "cell_type": "code",
   "execution_count": 25,
   "id": "62277b61",
   "metadata": {},
   "outputs": [
    {
     "data": {
      "text/plain": [
       "<tf.Tensor: shape=(3, 20), dtype=float32, numpy=\n",
       "array([[ 1.6688950e+00, -3.9186180e+00,  3.7993348e+00, -1.4097565e+00,\n",
       "        -3.3214598e+00, -9.9966162e-01, -2.0233727e+00,  1.2953283e+00,\n",
       "         5.0233593e+00, -1.0990871e+00, -2.0879953e+00, -1.2672297e+00,\n",
       "        -1.8820252e-01, -7.7382974e-02, -2.9172704e+00,  1.7943126e+00,\n",
       "         1.2375495e+00, -1.5559573e+00, -2.4811747e+00, -7.8135049e-01],\n",
       "       [ 1.7287169e+00, -2.4736629e+00,  3.3280423e+00,  9.1747051e-01,\n",
       "        -4.0622129e+00, -4.7915082e+00, -2.7125058e+00,  1.2155541e+00,\n",
       "         3.7063696e+00, -9.5357007e-01, -1.8554710e+00,  1.2775491e+00,\n",
       "        -7.6736540e-02,  6.8350559e-01, -4.8221231e+00,  2.6815715e+00,\n",
       "         4.4790969e+00, -2.3602080e+00, -3.2802453e+00, -1.5463475e+00],\n",
       "       [ 1.1199147e+00, -1.0038884e+00,  1.3508813e+00, -1.9272239e+00,\n",
       "        -9.1316330e-01,  4.4636719e-02, -4.8363330e-03,  2.1533751e+00,\n",
       "         1.0593201e+00,  4.3559158e-01, -3.0889933e+00,  9.9787104e-01,\n",
       "        -1.0613475e+00, -1.5381672e+00, -1.4485991e+00,  1.1703200e+00,\n",
       "         1.4115058e+00,  6.4874625e-01, -3.2627127e+00,  1.7254132e-01]],\n",
       "      dtype=float32)>"
      ]
     },
     "execution_count": 25,
     "metadata": {},
     "output_type": "execute_result"
    }
   ],
   "source": [
    "hublayer(train_ex_batch[:3])"
   ]
  },
  {
   "cell_type": "code",
   "execution_count": 26,
   "id": "73ff4e53",
   "metadata": {},
   "outputs": [],
   "source": [
    "from keras.models import Sequential\n",
    "from keras.layers import Dense\n",
    "model = Sequential()\n",
    "model.add(hublayer)\n",
    "model.add(Dense(16, activation='relu'))\n",
    "model.add(Dense(1, activation='sigmoid'))"
   ]
  },
  {
   "cell_type": "code",
   "execution_count": 27,
   "id": "33cc5691",
   "metadata": {},
   "outputs": [
    {
     "name": "stdout",
     "output_type": "stream",
     "text": [
      "Model: \"sequential_1\"\n",
      "_________________________________________________________________\n",
      " Layer (type)                Output Shape              Param #   \n",
      "=================================================================\n",
      " keras_layer_2 (KerasLayer)  (None, 20)                389380    \n",
      "                                                                 \n",
      " dense_2 (Dense)             (None, 16)                336       \n",
      "                                                                 \n",
      " dense_3 (Dense)             (None, 1)                 17        \n",
      "                                                                 \n",
      "=================================================================\n",
      "Total params: 389733 (1.49 MB)\n",
      "Trainable params: 389733 (1.49 MB)\n",
      "Non-trainable params: 0 (0.00 Byte)\n",
      "_________________________________________________________________\n"
     ]
    }
   ],
   "source": [
    "model.summary()"
   ]
  },
  {
   "cell_type": "code",
   "execution_count": 28,
   "id": "41804653",
   "metadata": {},
   "outputs": [],
   "source": [
    "model.compile(optimizer='adam', loss='binary_crossentropy', metrics=['accuracy'])"
   ]
  },
  {
   "cell_type": "code",
   "execution_count": 29,
   "id": "cdf22bd5",
   "metadata": {},
   "outputs": [
    {
     "name": "stdout",
     "output_type": "stream",
     "text": [
      "Epoch 1/25\n",
      "150/150 [==============================] - 11s 47ms/step - loss: 0.7936 - accuracy: 0.5719 - val_loss: 0.6496 - val_accuracy: 0.6350\n",
      "Epoch 2/25\n",
      "150/150 [==============================] - 6s 40ms/step - loss: 0.6042 - accuracy: 0.6741 - val_loss: 0.5707 - val_accuracy: 0.7067\n",
      "Epoch 3/25\n",
      "150/150 [==============================] - 6s 40ms/step - loss: 0.5082 - accuracy: 0.7553 - val_loss: 0.4786 - val_accuracy: 0.7723\n",
      "Epoch 4/25\n",
      "150/150 [==============================] - 6s 40ms/step - loss: 0.4108 - accuracy: 0.8227 - val_loss: 0.4040 - val_accuracy: 0.8219\n",
      "Epoch 5/25\n",
      "150/150 [==============================] - 6s 39ms/step - loss: 0.3399 - accuracy: 0.8600 - val_loss: 0.3594 - val_accuracy: 0.8442\n",
      "Epoch 6/25\n",
      "150/150 [==============================] - 6s 39ms/step - loss: 0.2870 - accuracy: 0.8875 - val_loss: 0.3332 - val_accuracy: 0.8584\n",
      "Epoch 7/25\n",
      "150/150 [==============================] - 6s 41ms/step - loss: 0.2478 - accuracy: 0.9057 - val_loss: 0.3162 - val_accuracy: 0.8651\n",
      "Epoch 8/25\n",
      "150/150 [==============================] - 6s 36ms/step - loss: 0.2148 - accuracy: 0.9200 - val_loss: 0.3055 - val_accuracy: 0.8707\n",
      "Epoch 9/25\n",
      "150/150 [==============================] - 6s 38ms/step - loss: 0.1878 - accuracy: 0.9320 - val_loss: 0.3020 - val_accuracy: 0.8726\n",
      "Epoch 10/25\n",
      "150/150 [==============================] - 6s 37ms/step - loss: 0.1638 - accuracy: 0.9435 - val_loss: 0.3012 - val_accuracy: 0.8733\n",
      "Epoch 11/25\n",
      "150/150 [==============================] - 6s 37ms/step - loss: 0.1436 - accuracy: 0.9525 - val_loss: 0.3056 - val_accuracy: 0.8755\n",
      "Epoch 12/25\n",
      "150/150 [==============================] - 6s 36ms/step - loss: 0.1258 - accuracy: 0.9604 - val_loss: 0.3133 - val_accuracy: 0.8751\n",
      "Epoch 13/25\n",
      "150/150 [==============================] - 6s 37ms/step - loss: 0.1090 - accuracy: 0.9681 - val_loss: 0.3247 - val_accuracy: 0.8739\n",
      "Epoch 14/25\n",
      "150/150 [==============================] - 6s 37ms/step - loss: 0.0939 - accuracy: 0.9746 - val_loss: 0.3360 - val_accuracy: 0.8727\n",
      "Epoch 15/25\n",
      "150/150 [==============================] - 6s 40ms/step - loss: 0.0807 - accuracy: 0.9790 - val_loss: 0.3494 - val_accuracy: 0.8720\n",
      "Epoch 16/25\n",
      "150/150 [==============================] - 6s 38ms/step - loss: 0.0691 - accuracy: 0.9834 - val_loss: 0.3663 - val_accuracy: 0.8713\n",
      "Epoch 17/25\n",
      "150/150 [==============================] - 6s 36ms/step - loss: 0.0586 - accuracy: 0.9875 - val_loss: 0.3878 - val_accuracy: 0.8698\n",
      "Epoch 18/25\n",
      "150/150 [==============================] - 5s 34ms/step - loss: 0.0499 - accuracy: 0.9898 - val_loss: 0.4009 - val_accuracy: 0.8669\n",
      "Epoch 19/25\n",
      "150/150 [==============================] - 6s 37ms/step - loss: 0.0427 - accuracy: 0.9921 - val_loss: 0.4230 - val_accuracy: 0.8645\n",
      "Epoch 20/25\n",
      "150/150 [==============================] - 6s 37ms/step - loss: 0.0359 - accuracy: 0.9939 - val_loss: 0.4473 - val_accuracy: 0.8640\n",
      "Epoch 21/25\n",
      "150/150 [==============================] - 5s 35ms/step - loss: 0.0287 - accuracy: 0.9962 - val_loss: 0.4700 - val_accuracy: 0.8625\n",
      "Epoch 22/25\n",
      "150/150 [==============================] - 5s 35ms/step - loss: 0.0236 - accuracy: 0.9975 - val_loss: 0.4930 - val_accuracy: 0.8622\n",
      "Epoch 23/25\n",
      "150/150 [==============================] - 5s 34ms/step - loss: 0.0188 - accuracy: 0.9984 - val_loss: 0.5153 - val_accuracy: 0.8616\n",
      "Epoch 24/25\n",
      "150/150 [==============================] - 5s 34ms/step - loss: 0.0153 - accuracy: 0.9989 - val_loss: 0.5389 - val_accuracy: 0.8603\n",
      "Epoch 25/25\n",
      "150/150 [==============================] - 5s 35ms/step - loss: 0.0124 - accuracy: 0.9997 - val_loss: 0.5645 - val_accuracy: 0.8592\n"
     ]
    }
   ],
   "source": [
    "history = model.fit(train_data.shuffle(100000).batch(100),\n",
    "                   epochs=25,\n",
    "                   validation_data = validation_data.batch(100),\n",
    "                   verbose=1)"
   ]
  },
  {
   "cell_type": "code",
   "execution_count": 30,
   "id": "267eff87",
   "metadata": {},
   "outputs": [
    {
     "name": "stdout",
     "output_type": "stream",
     "text": [
      "250/250 - 4s - loss: 0.6252 - accuracy: 0.8418 - 4s/epoch - 16ms/step\n",
      "loss : 0.625\n",
      "accuracy : 0.842\n"
     ]
    }
   ],
   "source": [
    "results = model.evaluate(test_data.batch(100), verbose=2)\n",
    "\n",
    "for name, value in zip(model.metrics_names, results):\n",
    "  print(\"%s : %.3f\" %(name, value))"
   ]
  },
  {
   "cell_type": "code",
   "execution_count": null,
   "id": "087443b1",
   "metadata": {},
   "outputs": [],
   "source": []
  }
 ],
 "metadata": {
  "kernelspec": {
   "display_name": "Python 3 (ipykernel)",
   "language": "python",
   "name": "python3"
  },
  "language_info": {
   "codemirror_mode": {
    "name": "ipython",
    "version": 3
   },
   "file_extension": ".py",
   "mimetype": "text/x-python",
   "name": "python",
   "nbconvert_exporter": "python",
   "pygments_lexer": "ipython3",
   "version": "3.11.4"
  }
 },
 "nbformat": 4,
 "nbformat_minor": 5
}
